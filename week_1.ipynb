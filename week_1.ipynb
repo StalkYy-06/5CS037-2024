{
  "nbformat": 4,
  "nbformat_minor": 0,
  "metadata": {
    "colab": {
      "provenance": [],
      "authorship_tag": "ABX9TyMqZBoomffN/Mhdt35mp0cl",
      "include_colab_link": true
    },
    "kernelspec": {
      "name": "python3",
      "display_name": "Python 3"
    },
    "language_info": {
      "name": "python"
    }
  },
  "cells": [
    {
      "cell_type": "markdown",
      "metadata": {
        "id": "view-in-github",
        "colab_type": "text"
      },
      "source": [
        "<a href=\"https://colab.research.google.com/github/StalkYy-06/5CS037-2024/blob/main/week_1.ipynb\" target=\"_parent\"><img src=\"https://colab.research.google.com/assets/colab-badge.svg\" alt=\"Open In Colab\"/></a>"
      ]
    },
    {
      "cell_type": "markdown",
      "source": [
        "# Problem - 1: Array Creation:"
      ],
      "metadata": {
        "id": "rPe16VgVqsRd"
      }
    },
    {
      "cell_type": "code",
      "execution_count": null,
      "metadata": {
        "colab": {
          "base_uri": "https://localhost:8080/"
        },
        "id": "OIBmEPjracRL",
        "outputId": "53117a3c-4f45-432f-dadd-16ba9da34075"
      },
      "outputs": [
        {
          "output_type": "stream",
          "name": "stdout",
          "text": [
            "[[4.68872040e-310 0.00000000e+000]\n",
            " [6.84066738e-310 6.84066735e-310]]\n",
            "[[1. 1.]\n",
            " [1. 1.]\n",
            " [1. 1.]\n",
            " [1. 1.]]\n"
          ]
        }
      ],
      "source": [
        "import numpy as np;\n",
        "# Initialize an empty array with size 2X2.\n",
        "empty_arr = np.empty(shape=(2,2));\n",
        "print(empty_arr);\n",
        "\n",
        "# Initialize an all one array with size 4X2.\n",
        "one_arr = np.ones(shape=(4,2));\n",
        "print(one_arr);\n",
        "\n"
      ]
    },
    {
      "cell_type": "code",
      "source": [
        "# Return a new array of given shape and type, filled with fill value.\n",
        "# qsn 1\n",
        "filled_arr=np.full((2,2),10);\n",
        "print(filled_arr);\n",
        "\n",
        "#qsn 2\n",
        "filled2_arr=np.full((4,2),10);\n",
        "print(filled2_arr);"
      ],
      "metadata": {
        "colab": {
          "base_uri": "https://localhost:8080/"
        },
        "id": "X9VfBEcamnQ7",
        "outputId": "a27fb96f-87cd-4f9a-f83e-cb910f540cab"
      },
      "execution_count": null,
      "outputs": [
        {
          "output_type": "stream",
          "name": "stdout",
          "text": [
            "[[10 10]\n",
            " [10 10]]\n",
            "[[10 10]\n",
            " [10 10]\n",
            " [10 10]\n",
            " [10 10]]\n"
          ]
        }
      ]
    },
    {
      "cell_type": "code",
      "source": [
        "#Return a new array of zeros with same shape and type as a given array.\n",
        "\n",
        "#qsn 1\n",
        "zeros_arr=np.zeros_like(filled_arr);\n",
        "print(zeros_arr);\n",
        "\n",
        "#qsn 2\n",
        "zeros_arr2=np.zeros_like(filled2_arr);\n",
        "print(zeros_arr2);"
      ],
      "metadata": {
        "colab": {
          "base_uri": "https://localhost:8080/"
        },
        "id": "HohGQ_KAoxHN",
        "outputId": "49258e80-1f53-426c-f589-4c20ac372629"
      },
      "execution_count": null,
      "outputs": [
        {
          "output_type": "stream",
          "name": "stdout",
          "text": [
            "[[0 0]\n",
            " [0 0]]\n",
            "[[0 0]\n",
            " [0 0]\n",
            " [0 0]\n",
            " [0 0]]\n"
          ]
        }
      ]
    },
    {
      "cell_type": "code",
      "source": [
        "# Return a new array of ones with same shape and type as a given array.\n",
        "#qsn 1\n",
        "ones_arr=np.ones_like(filled_arr);\n",
        "print(ones_arr);\n",
        "\n",
        "#qsn 2\n",
        "ones_arr2=np.ones_like(filled2_arr);\n",
        "print(ones_arr2);"
      ],
      "metadata": {
        "colab": {
          "base_uri": "https://localhost:8080/"
        },
        "id": "zhgUuID8pyVu",
        "outputId": "7287113c-6b2d-4fae-8a5c-43eaf6a68ddb"
      },
      "execution_count": null,
      "outputs": [
        {
          "output_type": "stream",
          "name": "stdout",
          "text": [
            "[[1 1]\n",
            " [1 1]]\n",
            "[[1 1]\n",
            " [1 1]\n",
            " [1 1]\n",
            " [1 1]]\n"
          ]
        }
      ]
    },
    {
      "cell_type": "code",
      "source": [
        "# For an existing list new_list = [1,2,3,4] convert to an numpy array.\n",
        "new_list=[1,2,3,4];\n",
        "array=np.array(new_list);\n",
        "print(array);"
      ],
      "metadata": {
        "colab": {
          "base_uri": "https://localhost:8080/"
        },
        "id": "ziY53lw9qBix",
        "outputId": "197c7ec4-e101-4321-dc9d-f4d2a9ef8c39"
      },
      "execution_count": null,
      "outputs": [
        {
          "output_type": "stream",
          "name": "stdout",
          "text": [
            "[1 2 3 4]\n"
          ]
        }
      ]
    },
    {
      "cell_type": "markdown",
      "source": [
        "# Problem - 2: Array Manipulation:"
      ],
      "metadata": {
        "id": "Ln9h5hucq6CM"
      }
    },
    {
      "cell_type": "code",
      "source": [
        "# Create an array with values ranging from 10 to 49.\n",
        "arr1=np.arange(10,50);\n",
        "print(arr1);"
      ],
      "metadata": {
        "colab": {
          "base_uri": "https://localhost:8080/"
        },
        "id": "ZIg0iidnq-G0",
        "outputId": "5b302761-fe96-4c0f-adfa-73f16bbe2311"
      },
      "execution_count": null,
      "outputs": [
        {
          "output_type": "stream",
          "name": "stdout",
          "text": [
            "[10 11 12 13 14 15 16 17 18 19 20 21 22 23 24 25 26 27 28 29 30 31 32 33\n",
            " 34 35 36 37 38 39 40 41 42 43 44 45 46 47 48 49]\n"
          ]
        }
      ]
    },
    {
      "cell_type": "code",
      "source": [
        "# Create a 3X3 matrix with values ranging from 0 to 8.\n",
        "arr2=np.arange(0,9).reshape((3,3));\n",
        "print(arr2);\n"
      ],
      "metadata": {
        "colab": {
          "base_uri": "https://localhost:8080/"
        },
        "id": "pmgjFYBosDoP",
        "outputId": "e2256529-6e13-40bf-a181-3a471842a26c"
      },
      "execution_count": null,
      "outputs": [
        {
          "output_type": "stream",
          "name": "stdout",
          "text": [
            "[[0 1 2]\n",
            " [3 4 5]\n",
            " [6 7 8]]\n"
          ]
        }
      ]
    },
    {
      "cell_type": "code",
      "source": [
        "# Create a 3X3 identity matrix.\n",
        "arr3=np.eye(3)\n",
        "print(arr3)"
      ],
      "metadata": {
        "colab": {
          "base_uri": "https://localhost:8080/"
        },
        "id": "kzPUt7RxsmpE",
        "outputId": "0b6c8480-aeee-4a84-e3a3-d8cc536e7a4d"
      },
      "execution_count": null,
      "outputs": [
        {
          "output_type": "stream",
          "name": "stdout",
          "text": [
            "[[1. 0. 0.]\n",
            " [0. 1. 0.]\n",
            " [0. 0. 1.]]\n"
          ]
        }
      ]
    },
    {
      "cell_type": "code",
      "source": [
        "# Create a random array of size 30 and find the mean of the array.\n",
        "arr4=np.random.random(30);\n",
        "print(arr4);\n",
        "print(\"mean = \",np.mean(arr4));"
      ],
      "metadata": {
        "colab": {
          "base_uri": "https://localhost:8080/"
        },
        "id": "x6Vx_6HKtXqW",
        "outputId": "bbec47ef-8560-4e86-da59-dc8edb23712f"
      },
      "execution_count": null,
      "outputs": [
        {
          "output_type": "stream",
          "name": "stdout",
          "text": [
            "[0.82612044 0.02293057 0.09223118 0.09767376 0.63242605 0.84549868\n",
            " 0.76526202 0.82446887 0.78384694 0.51986417 0.0130081  0.14058655\n",
            " 0.38602828 0.79497018 0.18341914 0.74053163 0.28110175 0.03490918\n",
            " 0.47227179 0.19967623 0.85169032 0.34955137 0.54196324 0.26887387\n",
            " 0.43825373 0.45854149 0.87905515 0.23199281 0.57120437 0.12748257]\n",
            "mean =  0.44584781487513064\n"
          ]
        }
      ]
    },
    {
      "cell_type": "code",
      "source": [
        "# Create a 10X10 array with random values and find the minimum and maximum values.\n",
        "arr5=np.random.random((10,10));\n",
        "print(arr5);\n",
        "print(\"min = \",np.min(arr5));\n",
        "print(\"max = \",np.max(arr5));"
      ],
      "metadata": {
        "colab": {
          "base_uri": "https://localhost:8080/"
        },
        "id": "sqRiXzWcuJJ-",
        "outputId": "426234f5-7d4f-4219-b24e-7d1b475eacb2"
      },
      "execution_count": null,
      "outputs": [
        {
          "output_type": "stream",
          "name": "stdout",
          "text": [
            "[[0.84248606 0.61309036 0.42538989 0.01130804 0.39917664 0.28395404\n",
            "  0.05180746 0.16627826 0.56766753 0.15195192]\n",
            " [0.48510005 0.69497149 0.13450682 0.35749413 0.24936972 0.75464329\n",
            "  0.81202572 0.61831465 0.27307863 0.51604975]\n",
            " [0.72674091 0.60436269 0.56969319 0.9391207  0.46971499 0.74117308\n",
            "  0.44635801 0.12024879 0.56822091 0.76754821]\n",
            " [0.96059337 0.56144953 0.14798084 0.3571125  0.36079222 0.07181217\n",
            "  0.30483459 0.09660626 0.18066296 0.39753961]\n",
            " [0.89059416 0.83829419 0.1743837  0.44070555 0.13331814 0.94192458\n",
            "  0.92564953 0.82477903 0.53691865 0.77059301]\n",
            " [0.80108076 0.46841202 0.19710193 0.11131002 0.26528925 0.08528767\n",
            "  0.89797482 0.62773816 0.93944144 0.59602051]\n",
            " [0.57654158 0.42860298 0.64822211 0.38673006 0.72085417 0.43567457\n",
            "  0.3545002  0.50594855 0.92439343 0.91630614]\n",
            " [0.71804059 0.57745055 0.40901184 0.89914574 0.23142295 0.48816744\n",
            "  0.23518154 0.36888554 0.56983183 0.74876762]\n",
            " [0.9133111  0.2028068  0.48382649 0.39371018 0.55529343 0.142733\n",
            "  0.82449675 0.46900907 0.84534194 0.5433804 ]\n",
            " [0.47884546 0.72908113 0.06211347 0.98339277 0.0599151  0.82168906\n",
            "  0.08539177 0.71518481 0.16193262 0.82238245]]\n",
            "min =  0.011308035244299575\n",
            "max =  0.9833927715545979\n"
          ]
        }
      ]
    },
    {
      "cell_type": "code",
      "source": [
        "# Create a zero array of size 10 and replace 5th element with 1.\n",
        "import numpy as np\n",
        "\n",
        "arr6= np.zeros(10);\n",
        "arr6[4]=1;\n",
        "print(arr6);"
      ],
      "metadata": {
        "colab": {
          "base_uri": "https://localhost:8080/"
        },
        "id": "_7xlnkbavaLx",
        "outputId": "2b4d5a64-2005-4ede-86f5-8a9cb58e3bbe"
      },
      "execution_count": 3,
      "outputs": [
        {
          "output_type": "stream",
          "name": "stdout",
          "text": [
            "[0. 0. 0. 0. 1. 0. 0. 0. 0. 0.]\n"
          ]
        }
      ]
    },
    {
      "cell_type": "code",
      "source": [
        "# Reverse an array arr = [1,2,0,0,4,0].\n",
        "arr7 =[1,2,0,0,4,0]\n",
        "revarr =np.flip(arr7)\n",
        "revarr"
      ],
      "metadata": {
        "colab": {
          "base_uri": "https://localhost:8080/"
        },
        "id": "j9-6oeQBZ3rH",
        "outputId": "312bed40-7cc0-4b3e-e05e-508f0525ed26"
      },
      "execution_count": 4,
      "outputs": [
        {
          "output_type": "execute_result",
          "data": {
            "text/plain": [
              "array([0, 4, 0, 0, 2, 1])"
            ]
          },
          "metadata": {},
          "execution_count": 4
        }
      ]
    },
    {
      "cell_type": "code",
      "source": [
        "# Create a 2d array with 1 on border and 0 inside.\n",
        "orig_array = np.ones([3,3])\n",
        "print(f\"Original Array :\\n{orig_array}\")\n",
        "orig_array[1][1]=0\n",
        "print(f\"Modified Array :\\n{orig_array}\")"
      ],
      "metadata": {
        "colab": {
          "base_uri": "https://localhost:8080/"
        },
        "id": "IrVR0BsmaKaG",
        "outputId": "e6a4bdf2-a31b-49cc-d343-c8b0d5003e72"
      },
      "execution_count": 5,
      "outputs": [
        {
          "output_type": "stream",
          "name": "stdout",
          "text": [
            "Original Array :\n",
            "[[1. 1. 1.]\n",
            " [1. 1. 1.]\n",
            " [1. 1. 1.]]\n",
            "Modified Array :\n",
            "[[1. 1. 1.]\n",
            " [1. 0. 1.]\n",
            " [1. 1. 1.]]\n"
          ]
        }
      ]
    },
    {
      "cell_type": "code",
      "source": [
        "# Create a 8X8 matrix and fill it with a checkerboard pattern.\n",
        "checkboard = np.zeros([8,8])\n",
        "print(f\"Original Array: \\n{checkboard}\")\n",
        "checkboard[1::2,::2] = 1\n",
        "checkboard[::2,1::2] = 1\n",
        "print(f\"Modified Array: \\n{checkboard}\")"
      ],
      "metadata": {
        "colab": {
          "base_uri": "https://localhost:8080/"
        },
        "id": "KQoewtC5aimU",
        "outputId": "887838a6-0cb9-4536-83c2-cd420c0dfd7f"
      },
      "execution_count": 6,
      "outputs": [
        {
          "output_type": "stream",
          "name": "stdout",
          "text": [
            "Original Array: \n",
            "[[0. 0. 0. 0. 0. 0. 0. 0.]\n",
            " [0. 0. 0. 0. 0. 0. 0. 0.]\n",
            " [0. 0. 0. 0. 0. 0. 0. 0.]\n",
            " [0. 0. 0. 0. 0. 0. 0. 0.]\n",
            " [0. 0. 0. 0. 0. 0. 0. 0.]\n",
            " [0. 0. 0. 0. 0. 0. 0. 0.]\n",
            " [0. 0. 0. 0. 0. 0. 0. 0.]\n",
            " [0. 0. 0. 0. 0. 0. 0. 0.]]\n",
            "Modified Array: \n",
            "[[0. 1. 0. 1. 0. 1. 0. 1.]\n",
            " [1. 0. 1. 0. 1. 0. 1. 0.]\n",
            " [0. 1. 0. 1. 0. 1. 0. 1.]\n",
            " [1. 0. 1. 0. 1. 0. 1. 0.]\n",
            " [0. 1. 0. 1. 0. 1. 0. 1.]\n",
            " [1. 0. 1. 0. 1. 0. 1. 0.]\n",
            " [0. 1. 0. 1. 0. 1. 0. 1.]\n",
            " [1. 0. 1. 0. 1. 0. 1. 0.]]\n"
          ]
        }
      ]
    },
    {
      "cell_type": "markdown",
      "source": [
        "# Problem -3: Array Operations:"
      ],
      "metadata": {
        "id": "Gs16bKU8a_m6"
      }
    },
    {
      "cell_type": "code",
      "source": [
        "x = np.array([[1,2],[3,5]])\n",
        "y = np.array([[5,6],[7,8]])\n",
        "v = np.array([9,10])\n",
        "w = np.array([11,12])"
      ],
      "metadata": {
        "id": "2HmU193ia-Vh"
      },
      "execution_count": 8,
      "outputs": []
    },
    {
      "cell_type": "code",
      "source": [
        "# Add the two array.\n",
        "print(f\"First output: \\n{np.add(x,y)}\\n\")\n",
        "print(f\"Second output: \\n{np.add(v,w)}\")"
      ],
      "metadata": {
        "colab": {
          "base_uri": "https://localhost:8080/"
        },
        "id": "8PmJDEYibqpS",
        "outputId": "96b4d396-cbe4-4ae2-9c02-5f0ef96f1df4"
      },
      "execution_count": 10,
      "outputs": [
        {
          "output_type": "stream",
          "name": "stdout",
          "text": [
            "First output: \n",
            "[[ 6  8]\n",
            " [10 13]]\n",
            "\n",
            "Second output: \n",
            "[20 22]\n"
          ]
        }
      ]
    },
    {
      "cell_type": "code",
      "source": [
        "# Subtract the two array\n",
        "print(f\"First output: \\n{np.subtract(x,y)}\\n\")\n",
        "print(f\"Second output: \\n{np.subtract(v,w)}\")"
      ],
      "metadata": {
        "colab": {
          "base_uri": "https://localhost:8080/"
        },
        "id": "6MySv0cecFt8",
        "outputId": "acac3294-a2fe-45ee-9a43-dc49b7b4851b"
      },
      "execution_count": 11,
      "outputs": [
        {
          "output_type": "stream",
          "name": "stdout",
          "text": [
            "First output: \n",
            "[[-4 -4]\n",
            " [-4 -3]]\n",
            "\n",
            "Second output: \n",
            "[-2 -2]\n"
          ]
        }
      ]
    },
    {
      "cell_type": "code",
      "source": [
        "# Multiply the array with any integers of your choice.\n",
        "print(f\"First : \\n{x*5}\\n\")\n",
        "print(f\"Second : \\n{y*5}\\n\")\n",
        "print(f\"Third : \\n{v*5}\\n\")\n",
        "print(f\"Fourth : \\n{w*5}\")"
      ],
      "metadata": {
        "colab": {
          "base_uri": "https://localhost:8080/"
        },
        "id": "ltTiLsngcNk1",
        "outputId": "c82f9ef7-ff8f-4c2b-e445-28103efec863"
      },
      "execution_count": 12,
      "outputs": [
        {
          "output_type": "stream",
          "name": "stdout",
          "text": [
            "First : \n",
            "[[ 5 10]\n",
            " [15 25]]\n",
            "\n",
            "Second : \n",
            "[[25 30]\n",
            " [35 40]]\n",
            "\n",
            "Third : \n",
            "[45 50]\n",
            "\n",
            "Fourth : \n",
            "[55 60]\n"
          ]
        }
      ]
    },
    {
      "cell_type": "code",
      "source": [
        "# Find the square of each element of the array.\n",
        "print(f\"{x*x}\\n\")\n",
        "print(f\"{y*y}\\n\")\n",
        "print(f\"{v*v}\\n\")\n",
        "print(f\"{w*w}\")"
      ],
      "metadata": {
        "colab": {
          "base_uri": "https://localhost:8080/"
        },
        "id": "2DyP0rZ6cxdx",
        "outputId": "26652e70-be6f-4c96-a50f-6128fda3874c"
      },
      "execution_count": 13,
      "outputs": [
        {
          "output_type": "stream",
          "name": "stdout",
          "text": [
            "[[ 1  4]\n",
            " [ 9 25]]\n",
            "\n",
            "[[25 36]\n",
            " [49 64]]\n",
            "\n",
            "[ 81 100]\n",
            "\n",
            "[121 144]\n"
          ]
        }
      ]
    },
    {
      "cell_type": "code",
      "source": [
        "# Find the dot product between: v(and)w ; x(and)v ; x(and)y.\n",
        "print(f\"First : \\n{np.dot(v,w)}\\n\")\n",
        "print(f\"Second : \\n{np.dot(x,v)}\\n\")\n",
        "print(f\"Third : \\n{np.dot(x,y)}\")"
      ],
      "metadata": {
        "colab": {
          "base_uri": "https://localhost:8080/"
        },
        "id": "mYgaFcOxdGde",
        "outputId": "598165a4-cbf1-4380-9c78-631dba66a216"
      },
      "execution_count": 14,
      "outputs": [
        {
          "output_type": "stream",
          "name": "stdout",
          "text": [
            "First : \n",
            "219\n",
            "\n",
            "Second : \n",
            "[29 77]\n",
            "\n",
            "Third : \n",
            "[[19 22]\n",
            " [50 58]]\n"
          ]
        }
      ]
    },
    {
      "cell_type": "code",
      "source": [
        "# Concatenate x(and)y along row and Concatenate v(and)w along column.{Hint:try np.concatenate() or np.vstack() functions.\n",
        "print(f\"First : \\n{np.concatenate((x,y),axis=0)}\\n\")\n",
        "print(f\"Second : \\n{np.concatenate((v,w),axis=0)}\\n\")"
      ],
      "metadata": {
        "colab": {
          "base_uri": "https://localhost:8080/"
        },
        "id": "I-kLX0C_dTjX",
        "outputId": "525fbf62-45c0-47e2-a972-7b67ad8f4c1a"
      },
      "execution_count": 16,
      "outputs": [
        {
          "output_type": "stream",
          "name": "stdout",
          "text": [
            "First : \n",
            "[[1 2]\n",
            " [3 5]\n",
            " [5 6]\n",
            " [7 8]]\n",
            "\n",
            "Second : \n",
            "[ 9 10 11 12]\n",
            "\n"
          ]
        }
      ]
    },
    {
      "cell_type": "code",
      "source": [
        "#7. Concatenate x(and)v; if you get an error, observe and explain why did you get the error?\n",
        "print(f\"Output: {np.concatenate((x,v),axis=1)}\")"
      ],
      "metadata": {
        "colab": {
          "base_uri": "https://localhost:8080/",
          "height": 193
        },
        "id": "XiuxDEHWdj4W",
        "outputId": "346a2597-7361-42df-80ca-be759254ecfd"
      },
      "execution_count": 17,
      "outputs": [
        {
          "output_type": "error",
          "ename": "ValueError",
          "evalue": "all the input arrays must have same number of dimensions, but the array at index 0 has 2 dimension(s) and the array at index 1 has 1 dimension(s)",
          "traceback": [
            "\u001b[0;31m---------------------------------------------------------------------------\u001b[0m",
            "\u001b[0;31mValueError\u001b[0m                                Traceback (most recent call last)",
            "\u001b[0;32m<ipython-input-17-63cf0298b8b4>\u001b[0m in \u001b[0;36m<cell line: 2>\u001b[0;34m()\u001b[0m\n\u001b[1;32m      1\u001b[0m \u001b[0;31m#7. Concatenate x(and)v; if you get an error, observe and explain why did you get the error?\u001b[0m\u001b[0;34m\u001b[0m\u001b[0;34m\u001b[0m\u001b[0m\n\u001b[0;32m----> 2\u001b[0;31m \u001b[0mprint\u001b[0m\u001b[0;34m(\u001b[0m\u001b[0;34mf\"Output: {np.concatenate((x,v),axis=1)}\"\u001b[0m\u001b[0;34m)\u001b[0m\u001b[0;34m\u001b[0m\u001b[0;34m\u001b[0m\u001b[0m\n\u001b[0m",
            "\u001b[0;31mValueError\u001b[0m: all the input arrays must have same number of dimensions, but the array at index 0 has 2 dimension(s) and the array at index 1 has 1 dimension(s)"
          ]
        }
      ]
    },
    {
      "cell_type": "markdown",
      "source": [
        "We get and error while concatenating x and v because they are of different dimensions."
      ],
      "metadata": {
        "id": "rDuZp3YSdrZZ"
      }
    },
    {
      "cell_type": "markdown",
      "source": [
        "# Problem -4: Matrix Operations:"
      ],
      "metadata": {
        "id": "ZvEmwwiQeVRI"
      }
    },
    {
      "cell_type": "code",
      "source": [
        "A = np.array([[3,4],[7,8]])\n",
        "B = np.array([[5,3],[2,1]])\n",
        "print(f\"A:\\n{A} \\nB:\\n{B}\")"
      ],
      "metadata": {
        "colab": {
          "base_uri": "https://localhost:8080/"
        },
        "id": "ur_9UPlVd9ii",
        "outputId": "9adcc1ad-a45c-4747-af60-cbef8c94cfbc"
      },
      "execution_count": 18,
      "outputs": [
        {
          "output_type": "stream",
          "name": "stdout",
          "text": [
            "A:\n",
            "[[3 4]\n",
            " [7 8]] \n",
            "B:\n",
            "[[5 3]\n",
            " [2 1]]\n"
          ]
        }
      ]
    },
    {
      "cell_type": "code",
      "source": [
        "# Prove A.A-1 =I.\n",
        "Ainv = np.linalg.inv(A)\n",
        "print(f\"Ainv:\\n{Ainv}\")\n",
        "print(f\"A.Ainv:\\n{np.dot(A,Ainv)}\")"
      ],
      "metadata": {
        "colab": {
          "base_uri": "https://localhost:8080/"
        },
        "id": "nufNmNddeGJv",
        "outputId": "5ce63d72-13f0-4fa7-8813-b88fe5f1cab3"
      },
      "execution_count": 19,
      "outputs": [
        {
          "output_type": "stream",
          "name": "stdout",
          "text": [
            "Ainv:\n",
            "[[-2.    1.  ]\n",
            " [ 1.75 -0.75]]\n",
            "A.Ainv:\n",
            "[[1.00000000e+00 0.00000000e+00]\n",
            " [1.77635684e-15 1.00000000e+00]]\n"
          ]
        }
      ]
    },
    {
      "cell_type": "code",
      "source": [
        "# Prove AB /= BA.\n",
        "print(f\"AB:\\n{np.dot(A,B)}\")\n",
        "print(f\"BA:\\n{np.dot(B,A)}\")"
      ],
      "metadata": {
        "colab": {
          "base_uri": "https://localhost:8080/"
        },
        "id": "yDPN2k37esWY",
        "outputId": "1336ef11-6ceb-49c2-b643-badfa4ec7a3b"
      },
      "execution_count": 20,
      "outputs": [
        {
          "output_type": "stream",
          "name": "stdout",
          "text": [
            "AB:\n",
            "[[23 13]\n",
            " [51 29]]\n",
            "BA:\n",
            "[[36 44]\n",
            " [13 16]]\n"
          ]
        }
      ]
    },
    {
      "cell_type": "code",
      "source": [
        "# Prove (AB)T = BT.AT.\n",
        "AB=np.dot(A,B)\n",
        "BT=np.transpose(B)\n",
        "AT=np.transpose(A)\n",
        "print(f\"AB.T:\\n{np.transpose(AB)}\")\n",
        "print(f\"BT.AT:\\n{np.dot(BT,AT)}\")\n"
      ],
      "metadata": {
        "colab": {
          "base_uri": "https://localhost:8080/"
        },
        "id": "Y7mpcE2te-j6",
        "outputId": "e43d7288-6b28-4e21-c6f0-c5841561de46"
      },
      "execution_count": 21,
      "outputs": [
        {
          "output_type": "stream",
          "name": "stdout",
          "text": [
            "AB.T:\n",
            "[[23 51]\n",
            " [13 29]]\n",
            "BT.AT:\n",
            "[[23 51]\n",
            " [13 29]]\n"
          ]
        }
      ]
    },
    {
      "cell_type": "code",
      "source": [
        "# Solve the following system of Linear equation using Inverse Methods.\n",
        "#2x − 3y + z = −1\n",
        "#x − y + 2z = −3\n",
        "#3x + y − z = 9\n",
        "\n",
        "A=np.array([[2,-3,1],[1,-1,2],[3,1,-1]])\n",
        "B=np.array([-1,-3,9])\n",
        "X=np.linalg.inv(A).dot(B)\n",
        "print(f\"x={X[0]}\\ny{X[1]}\\nz={X[2]}\")"
      ],
      "metadata": {
        "colab": {
          "base_uri": "https://localhost:8080/"
        },
        "id": "ZdP71jKVfMwy",
        "outputId": "671518f8-3064-45af-b66a-fa561a2cdb0c"
      },
      "execution_count": 22,
      "outputs": [
        {
          "output_type": "stream",
          "name": "stdout",
          "text": [
            "x=2.0\n",
            "y1.0\n",
            "z=-2.0\n"
          ]
        }
      ]
    },
    {
      "cell_type": "markdown",
      "source": [
        "# Experiment: How Fast Is Numpy?"
      ],
      "metadata": {
        "id": "w3m3AVFMflQA"
      }
    },
    {
      "cell_type": "markdown",
      "source": [
        "## 1. Element wise Addition"
      ],
      "metadata": {
        "id": "UVzHgY8afq6e"
      }
    },
    {
      "cell_type": "code",
      "source": [
        "import random\n",
        "from timeit import timeit\n",
        "def add_python(Z1,Z2):\n",
        "  return [z1+z2 for z1,z2 in zip(Z1,Z2)]\n",
        "def add_numpy(Z1,Z2):\n",
        "  return np.add(Z1,Z2)\n",
        "size=1000000\n",
        "Z1_list=random.sample(range(size+1),size)\n",
        "Z2_list=random.sample(range(size+1),size)\n",
        "Z1_np=np.array(Z1_list)\n",
        "Z2_np=np.array(Z2_list)\n",
        "python_time=timeit(\"add_python(Z1_list,Z2_list)\",number=1,globals=globals())\n",
        "numpy_time=timeit(\"add_numpy(Z1_np,Z2_np)\",number=1,globals=globals())\n",
        "print(\"Python Time:\",python_time)\n",
        "print(\"Numpy Time:\",numpy_time)"
      ],
      "metadata": {
        "colab": {
          "base_uri": "https://localhost:8080/"
        },
        "id": "QMeY2QftfpwV",
        "outputId": "0906ebda-d83d-4c86-e518-bbe321fda1e8"
      },
      "execution_count": 23,
      "outputs": [
        {
          "output_type": "stream",
          "name": "stdout",
          "text": [
            "Python Time: 0.35446861199989144\n",
            "Numpy Time: 0.002062510000087059\n"
          ]
        }
      ]
    },
    {
      "cell_type": "markdown",
      "source": [
        "## 2.Element wise Multiplication"
      ],
      "metadata": {
        "id": "IC-BdWGnf1Q2"
      }
    },
    {
      "cell_type": "code",
      "source": [
        "def mul_python(Z1,Z2):\n",
        "  return [z1*z2 for z1,z2 in zip(Z1,Z2)]\n",
        "def mul_numpy(Z1,Z2):\n",
        "  return np.multiply(Z1,Z2)\n",
        "size=1000000\n",
        "Z1_list=random.sample(range(size+1),size)\n",
        "Z2_list=random.sample(range(size+1),size)\n",
        "Z1_np=np.array(Z1_list)\n",
        "Z2_np=np.array(Z2_list)\n",
        "python_time=timeit(\"mul_python(Z1_list,Z2_list)\",number=1,globals=globals())\n",
        "numpy_time=timeit(\"mul_numpy(Z1_np,Z2_np)\",number=1,globals=globals())\n",
        "print(\"Python Time:\",python_time)\n",
        "print(\"Numpy Time:\",numpy_time)"
      ],
      "metadata": {
        "colab": {
          "base_uri": "https://localhost:8080/"
        },
        "id": "7yTFAFBpf5mQ",
        "outputId": "b66aac59-2317-45ea-a309-cbf4c344e5e4"
      },
      "execution_count": 24,
      "outputs": [
        {
          "output_type": "stream",
          "name": "stdout",
          "text": [
            "Python Time: 0.37102414800006045\n",
            "Numpy Time: 0.0021490750000339176\n"
          ]
        }
      ]
    },
    {
      "cell_type": "markdown",
      "source": [
        "## 3.Dot product"
      ],
      "metadata": {
        "id": "kZTzEDLVf8ow"
      }
    },
    {
      "cell_type": "code",
      "source": [
        "def dot_python(Z1,Z2):\n",
        "  return sum(z1*z2 for z1,z2 in zip(Z1,Z2))\n",
        "def dot_numpy(Z1,Z2):\n",
        "  return np.dot(Z1,Z2)\n",
        "size=1000000\n",
        "Z1_list=random.sample(range(size+1),size)\n",
        "Z2_list=random.sample(range(size+1),size)\n",
        "Z1_np=np.array(Z1_list)\n",
        "Z2_np=np.array(Z2_list)\n",
        "python_time=timeit(\"dot_python(Z1_list,Z2_list)\",number=1,globals=globals())\n",
        "numpy_time=timeit(\"dot_numpy(Z1_np,Z2_np)\",number=1,globals=globals())\n",
        "print(\"Python Time:\",python_time)\n",
        "print(\"Numpy Time:\",numpy_time)"
      ],
      "metadata": {
        "colab": {
          "base_uri": "https://localhost:8080/"
        },
        "id": "kyaXEQ93gAF4",
        "outputId": "b0a5c132-c53d-48a1-fae5-aae79fca6084"
      },
      "execution_count": 25,
      "outputs": [
        {
          "output_type": "stream",
          "name": "stdout",
          "text": [
            "Python Time: 0.45553182999992714\n",
            "Numpy Time: 0.0017888630000015837\n"
          ]
        }
      ]
    },
    {
      "cell_type": "markdown",
      "source": [
        "## 4. Matrix Multiplication"
      ],
      "metadata": {
        "id": "hRa3CQhaqHZ3"
      }
    },
    {
      "cell_type": "code",
      "source": [
        "size=1000\n",
        "Z1_list = [random.sample(range(size),size) for _ in range(size)]\n",
        "Z2_list = [random.sample(range(size),size) for _ in range(size)]\n",
        "Z1_np = np.array(Z1_list)\n",
        "Z2_np = np.array(Z2_list)\n",
        "def np_matmul(Z1,Z2):\n",
        "  return np.matmul(Z1,Z2)\n",
        "def python_matmul(Z1,Z2):\n",
        "  return [[sum(z1*z2 for z1,z2 in zip(Z1_row,Z2_col)) for Z2_col in zip(*Z2)] for Z1_row in Z1]\n",
        "python_time=timeit(\"python_matmul(Z1_list,Z2_list)\",number=1,globals=globals())\n",
        "numpy_time=timeit(\"np_matmul(Z1_np,Z2_np)\",number=1,globals=globals())\n",
        "print(\"Python Time:\",python_time)\n",
        "print(\"Numpy Time:\",numpy_time)"
      ],
      "metadata": {
        "id": "l1m7wnRuqPcf"
      },
      "execution_count": null,
      "outputs": []
    }
  ]
}