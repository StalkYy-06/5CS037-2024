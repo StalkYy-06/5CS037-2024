{
  "nbformat": 4,
  "nbformat_minor": 0,
  "metadata": {
    "colab": {
      "provenance": [],
      "authorship_tag": "ABX9TyMWGniaFBrOmbDlkZ8zbiBC",
      "include_colab_link": true
    },
    "kernelspec": {
      "name": "python3",
      "display_name": "Python 3"
    },
    "language_info": {
      "name": "python"
    }
  },
  "cells": [
    {
      "cell_type": "markdown",
      "metadata": {
        "id": "view-in-github",
        "colab_type": "text"
      },
      "source": [
        "<a href=\"https://colab.research.google.com/github/StalkYy-06/5CS037-2024/blob/main/swarnim_rai_2414970_week_4.ipynb\" target=\"_parent\"><img src=\"https://colab.research.google.com/assets/colab-badge.svg\" alt=\"Open In Colab\"/></a>"
      ]
    },
    {
      "cell_type": "markdown",
      "source": [
        "# Problem - 1: Perform a classification task with knn from scratch."
      ],
      "metadata": {
        "id": "bokfmhPHtaET"
      }
    },
    {
      "cell_type": "code",
      "execution_count": null,
      "metadata": {
        "colab": {
          "base_uri": "https://localhost:8080/"
        },
        "id": "Gy2kxbQtsQkW",
        "outputId": "396f605f-68ce-45ce-aa27-4181550e137f"
      },
      "outputs": [
        {
          "output_type": "stream",
          "name": "stdout",
          "text": [
            "Drive already mounted at /content/gdrive; to attempt to forcibly remount, call drive.mount(\"/content/gdrive\", force_remount=True).\n"
          ]
        }
      ],
      "source": [
        "# mounting the drive\n",
        "from google.colab import drive\n",
        "drive.mount('/content/gdrive')"
      ]
    },
    {
      "cell_type": "code",
      "source": [
        "#importing numpy and matplotlib\n",
        "import numpy as np\n",
        "import matplotlib.pyplot as plt\n",
        "from timeit import timeit\n",
        "\n",
        "#loading in provided dataset and importing in panda DataFrame.\n",
        "import pandas as pd\n",
        "df=pd.read_csv('/content/gdrive/My Drive/diabetes.csv')\n",
        "\n",
        "df.head()"
      ],
      "metadata": {
        "colab": {
          "base_uri": "https://localhost:8080/",
          "height": 206
        },
        "id": "Ok57HzIts-b2",
        "outputId": "ab46e667-ecfa-493b-ae0b-f399d56c4ddf"
      },
      "execution_count": null,
      "outputs": [
        {
          "output_type": "execute_result",
          "data": {
            "text/plain": [
              "   Pregnancies  Glucose  BloodPressure  SkinThickness  Insulin   BMI  \\\n",
              "0            6      148             72             35        0  33.6   \n",
              "1            1       85             66             29        0  26.6   \n",
              "2            8      183             64              0        0  23.3   \n",
              "3            1       89             66             23       94  28.1   \n",
              "4            0      137             40             35      168  43.1   \n",
              "\n",
              "   DiabetesPedigreeFunction  Age  Outcome  \n",
              "0                     0.627   50        1  \n",
              "1                     0.351   31        0  \n",
              "2                     0.672   32        1  \n",
              "3                     0.167   21        0  \n",
              "4                     2.288   33        1  "
            ],
            "text/html": [
              "\n",
              "  <div id=\"df-143b8952-5291-4b6b-80f0-ffc72cd8c65a\" class=\"colab-df-container\">\n",
              "    <div>\n",
              "<style scoped>\n",
              "    .dataframe tbody tr th:only-of-type {\n",
              "        vertical-align: middle;\n",
              "    }\n",
              "\n",
              "    .dataframe tbody tr th {\n",
              "        vertical-align: top;\n",
              "    }\n",
              "\n",
              "    .dataframe thead th {\n",
              "        text-align: right;\n",
              "    }\n",
              "</style>\n",
              "<table border=\"1\" class=\"dataframe\">\n",
              "  <thead>\n",
              "    <tr style=\"text-align: right;\">\n",
              "      <th></th>\n",
              "      <th>Pregnancies</th>\n",
              "      <th>Glucose</th>\n",
              "      <th>BloodPressure</th>\n",
              "      <th>SkinThickness</th>\n",
              "      <th>Insulin</th>\n",
              "      <th>BMI</th>\n",
              "      <th>DiabetesPedigreeFunction</th>\n",
              "      <th>Age</th>\n",
              "      <th>Outcome</th>\n",
              "    </tr>\n",
              "  </thead>\n",
              "  <tbody>\n",
              "    <tr>\n",
              "      <th>0</th>\n",
              "      <td>6</td>\n",
              "      <td>148</td>\n",
              "      <td>72</td>\n",
              "      <td>35</td>\n",
              "      <td>0</td>\n",
              "      <td>33.6</td>\n",
              "      <td>0.627</td>\n",
              "      <td>50</td>\n",
              "      <td>1</td>\n",
              "    </tr>\n",
              "    <tr>\n",
              "      <th>1</th>\n",
              "      <td>1</td>\n",
              "      <td>85</td>\n",
              "      <td>66</td>\n",
              "      <td>29</td>\n",
              "      <td>0</td>\n",
              "      <td>26.6</td>\n",
              "      <td>0.351</td>\n",
              "      <td>31</td>\n",
              "      <td>0</td>\n",
              "    </tr>\n",
              "    <tr>\n",
              "      <th>2</th>\n",
              "      <td>8</td>\n",
              "      <td>183</td>\n",
              "      <td>64</td>\n",
              "      <td>0</td>\n",
              "      <td>0</td>\n",
              "      <td>23.3</td>\n",
              "      <td>0.672</td>\n",
              "      <td>32</td>\n",
              "      <td>1</td>\n",
              "    </tr>\n",
              "    <tr>\n",
              "      <th>3</th>\n",
              "      <td>1</td>\n",
              "      <td>89</td>\n",
              "      <td>66</td>\n",
              "      <td>23</td>\n",
              "      <td>94</td>\n",
              "      <td>28.1</td>\n",
              "      <td>0.167</td>\n",
              "      <td>21</td>\n",
              "      <td>0</td>\n",
              "    </tr>\n",
              "    <tr>\n",
              "      <th>4</th>\n",
              "      <td>0</td>\n",
              "      <td>137</td>\n",
              "      <td>40</td>\n",
              "      <td>35</td>\n",
              "      <td>168</td>\n",
              "      <td>43.1</td>\n",
              "      <td>2.288</td>\n",
              "      <td>33</td>\n",
              "      <td>1</td>\n",
              "    </tr>\n",
              "  </tbody>\n",
              "</table>\n",
              "</div>\n",
              "    <div class=\"colab-df-buttons\">\n",
              "\n",
              "  <div class=\"colab-df-container\">\n",
              "    <button class=\"colab-df-convert\" onclick=\"convertToInteractive('df-143b8952-5291-4b6b-80f0-ffc72cd8c65a')\"\n",
              "            title=\"Convert this dataframe to an interactive table.\"\n",
              "            style=\"display:none;\">\n",
              "\n",
              "  <svg xmlns=\"http://www.w3.org/2000/svg\" height=\"24px\" viewBox=\"0 -960 960 960\">\n",
              "    <path d=\"M120-120v-720h720v720H120Zm60-500h600v-160H180v160Zm220 220h160v-160H400v160Zm0 220h160v-160H400v160ZM180-400h160v-160H180v160Zm440 0h160v-160H620v160ZM180-180h160v-160H180v160Zm440 0h160v-160H620v160Z\"/>\n",
              "  </svg>\n",
              "    </button>\n",
              "\n",
              "  <style>\n",
              "    .colab-df-container {\n",
              "      display:flex;\n",
              "      gap: 12px;\n",
              "    }\n",
              "\n",
              "    .colab-df-convert {\n",
              "      background-color: #E8F0FE;\n",
              "      border: none;\n",
              "      border-radius: 50%;\n",
              "      cursor: pointer;\n",
              "      display: none;\n",
              "      fill: #1967D2;\n",
              "      height: 32px;\n",
              "      padding: 0 0 0 0;\n",
              "      width: 32px;\n",
              "    }\n",
              "\n",
              "    .colab-df-convert:hover {\n",
              "      background-color: #E2EBFA;\n",
              "      box-shadow: 0px 1px 2px rgba(60, 64, 67, 0.3), 0px 1px 3px 1px rgba(60, 64, 67, 0.15);\n",
              "      fill: #174EA6;\n",
              "    }\n",
              "\n",
              "    .colab-df-buttons div {\n",
              "      margin-bottom: 4px;\n",
              "    }\n",
              "\n",
              "    [theme=dark] .colab-df-convert {\n",
              "      background-color: #3B4455;\n",
              "      fill: #D2E3FC;\n",
              "    }\n",
              "\n",
              "    [theme=dark] .colab-df-convert:hover {\n",
              "      background-color: #434B5C;\n",
              "      box-shadow: 0px 1px 3px 1px rgba(0, 0, 0, 0.15);\n",
              "      filter: drop-shadow(0px 1px 2px rgba(0, 0, 0, 0.3));\n",
              "      fill: #FFFFFF;\n",
              "    }\n",
              "  </style>\n",
              "\n",
              "    <script>\n",
              "      const buttonEl =\n",
              "        document.querySelector('#df-143b8952-5291-4b6b-80f0-ffc72cd8c65a button.colab-df-convert');\n",
              "      buttonEl.style.display =\n",
              "        google.colab.kernel.accessAllowed ? 'block' : 'none';\n",
              "\n",
              "      async function convertToInteractive(key) {\n",
              "        const element = document.querySelector('#df-143b8952-5291-4b6b-80f0-ffc72cd8c65a');\n",
              "        const dataTable =\n",
              "          await google.colab.kernel.invokeFunction('convertToInteractive',\n",
              "                                                    [key], {});\n",
              "        if (!dataTable) return;\n",
              "\n",
              "        const docLinkHtml = 'Like what you see? Visit the ' +\n",
              "          '<a target=\"_blank\" href=https://colab.research.google.com/notebooks/data_table.ipynb>data table notebook</a>'\n",
              "          + ' to learn more about interactive tables.';\n",
              "        element.innerHTML = '';\n",
              "        dataTable['output_type'] = 'display_data';\n",
              "        await google.colab.output.renderOutput(dataTable, element);\n",
              "        const docLink = document.createElement('div');\n",
              "        docLink.innerHTML = docLinkHtml;\n",
              "        element.appendChild(docLink);\n",
              "      }\n",
              "    </script>\n",
              "  </div>\n",
              "\n",
              "\n",
              "<div id=\"df-42a4f766-1487-4413-b4d3-a42c237d1465\">\n",
              "  <button class=\"colab-df-quickchart\" onclick=\"quickchart('df-42a4f766-1487-4413-b4d3-a42c237d1465')\"\n",
              "            title=\"Suggest charts\"\n",
              "            style=\"display:none;\">\n",
              "\n",
              "<svg xmlns=\"http://www.w3.org/2000/svg\" height=\"24px\"viewBox=\"0 0 24 24\"\n",
              "     width=\"24px\">\n",
              "    <g>\n",
              "        <path d=\"M19 3H5c-1.1 0-2 .9-2 2v14c0 1.1.9 2 2 2h14c1.1 0 2-.9 2-2V5c0-1.1-.9-2-2-2zM9 17H7v-7h2v7zm4 0h-2V7h2v10zm4 0h-2v-4h2v4z\"/>\n",
              "    </g>\n",
              "</svg>\n",
              "  </button>\n",
              "\n",
              "<style>\n",
              "  .colab-df-quickchart {\n",
              "      --bg-color: #E8F0FE;\n",
              "      --fill-color: #1967D2;\n",
              "      --hover-bg-color: #E2EBFA;\n",
              "      --hover-fill-color: #174EA6;\n",
              "      --disabled-fill-color: #AAA;\n",
              "      --disabled-bg-color: #DDD;\n",
              "  }\n",
              "\n",
              "  [theme=dark] .colab-df-quickchart {\n",
              "      --bg-color: #3B4455;\n",
              "      --fill-color: #D2E3FC;\n",
              "      --hover-bg-color: #434B5C;\n",
              "      --hover-fill-color: #FFFFFF;\n",
              "      --disabled-bg-color: #3B4455;\n",
              "      --disabled-fill-color: #666;\n",
              "  }\n",
              "\n",
              "  .colab-df-quickchart {\n",
              "    background-color: var(--bg-color);\n",
              "    border: none;\n",
              "    border-radius: 50%;\n",
              "    cursor: pointer;\n",
              "    display: none;\n",
              "    fill: var(--fill-color);\n",
              "    height: 32px;\n",
              "    padding: 0;\n",
              "    width: 32px;\n",
              "  }\n",
              "\n",
              "  .colab-df-quickchart:hover {\n",
              "    background-color: var(--hover-bg-color);\n",
              "    box-shadow: 0 1px 2px rgba(60, 64, 67, 0.3), 0 1px 3px 1px rgba(60, 64, 67, 0.15);\n",
              "    fill: var(--button-hover-fill-color);\n",
              "  }\n",
              "\n",
              "  .colab-df-quickchart-complete:disabled,\n",
              "  .colab-df-quickchart-complete:disabled:hover {\n",
              "    background-color: var(--disabled-bg-color);\n",
              "    fill: var(--disabled-fill-color);\n",
              "    box-shadow: none;\n",
              "  }\n",
              "\n",
              "  .colab-df-spinner {\n",
              "    border: 2px solid var(--fill-color);\n",
              "    border-color: transparent;\n",
              "    border-bottom-color: var(--fill-color);\n",
              "    animation:\n",
              "      spin 1s steps(1) infinite;\n",
              "  }\n",
              "\n",
              "  @keyframes spin {\n",
              "    0% {\n",
              "      border-color: transparent;\n",
              "      border-bottom-color: var(--fill-color);\n",
              "      border-left-color: var(--fill-color);\n",
              "    }\n",
              "    20% {\n",
              "      border-color: transparent;\n",
              "      border-left-color: var(--fill-color);\n",
              "      border-top-color: var(--fill-color);\n",
              "    }\n",
              "    30% {\n",
              "      border-color: transparent;\n",
              "      border-left-color: var(--fill-color);\n",
              "      border-top-color: var(--fill-color);\n",
              "      border-right-color: var(--fill-color);\n",
              "    }\n",
              "    40% {\n",
              "      border-color: transparent;\n",
              "      border-right-color: var(--fill-color);\n",
              "      border-top-color: var(--fill-color);\n",
              "    }\n",
              "    60% {\n",
              "      border-color: transparent;\n",
              "      border-right-color: var(--fill-color);\n",
              "    }\n",
              "    80% {\n",
              "      border-color: transparent;\n",
              "      border-right-color: var(--fill-color);\n",
              "      border-bottom-color: var(--fill-color);\n",
              "    }\n",
              "    90% {\n",
              "      border-color: transparent;\n",
              "      border-bottom-color: var(--fill-color);\n",
              "    }\n",
              "  }\n",
              "</style>\n",
              "\n",
              "  <script>\n",
              "    async function quickchart(key) {\n",
              "      const quickchartButtonEl =\n",
              "        document.querySelector('#' + key + ' button');\n",
              "      quickchartButtonEl.disabled = true;  // To prevent multiple clicks.\n",
              "      quickchartButtonEl.classList.add('colab-df-spinner');\n",
              "      try {\n",
              "        const charts = await google.colab.kernel.invokeFunction(\n",
              "            'suggestCharts', [key], {});\n",
              "      } catch (error) {\n",
              "        console.error('Error during call to suggestCharts:', error);\n",
              "      }\n",
              "      quickchartButtonEl.classList.remove('colab-df-spinner');\n",
              "      quickchartButtonEl.classList.add('colab-df-quickchart-complete');\n",
              "    }\n",
              "    (() => {\n",
              "      let quickchartButtonEl =\n",
              "        document.querySelector('#df-42a4f766-1487-4413-b4d3-a42c237d1465 button');\n",
              "      quickchartButtonEl.style.display =\n",
              "        google.colab.kernel.accessAllowed ? 'block' : 'none';\n",
              "    })();\n",
              "  </script>\n",
              "</div>\n",
              "\n",
              "    </div>\n",
              "  </div>\n"
            ],
            "application/vnd.google.colaboratory.intrinsic+json": {
              "type": "dataframe",
              "variable_name": "df",
              "summary": "{\n  \"name\": \"df\",\n  \"rows\": 768,\n  \"fields\": [\n    {\n      \"column\": \"Pregnancies\",\n      \"properties\": {\n        \"dtype\": \"number\",\n        \"std\": 3,\n        \"min\": 0,\n        \"max\": 17,\n        \"num_unique_values\": 17,\n        \"samples\": [\n          6,\n          1,\n          3\n        ],\n        \"semantic_type\": \"\",\n        \"description\": \"\"\n      }\n    },\n    {\n      \"column\": \"Glucose\",\n      \"properties\": {\n        \"dtype\": \"number\",\n        \"std\": 31,\n        \"min\": 0,\n        \"max\": 199,\n        \"num_unique_values\": 136,\n        \"samples\": [\n          151,\n          101,\n          112\n        ],\n        \"semantic_type\": \"\",\n        \"description\": \"\"\n      }\n    },\n    {\n      \"column\": \"BloodPressure\",\n      \"properties\": {\n        \"dtype\": \"number\",\n        \"std\": 19,\n        \"min\": 0,\n        \"max\": 122,\n        \"num_unique_values\": 47,\n        \"samples\": [\n          86,\n          46,\n          85\n        ],\n        \"semantic_type\": \"\",\n        \"description\": \"\"\n      }\n    },\n    {\n      \"column\": \"SkinThickness\",\n      \"properties\": {\n        \"dtype\": \"number\",\n        \"std\": 15,\n        \"min\": 0,\n        \"max\": 99,\n        \"num_unique_values\": 51,\n        \"samples\": [\n          7,\n          12,\n          48\n        ],\n        \"semantic_type\": \"\",\n        \"description\": \"\"\n      }\n    },\n    {\n      \"column\": \"Insulin\",\n      \"properties\": {\n        \"dtype\": \"number\",\n        \"std\": 115,\n        \"min\": 0,\n        \"max\": 846,\n        \"num_unique_values\": 186,\n        \"samples\": [\n          52,\n          41,\n          183\n        ],\n        \"semantic_type\": \"\",\n        \"description\": \"\"\n      }\n    },\n    {\n      \"column\": \"BMI\",\n      \"properties\": {\n        \"dtype\": \"number\",\n        \"std\": 7.8841603203754405,\n        \"min\": 0.0,\n        \"max\": 67.1,\n        \"num_unique_values\": 248,\n        \"samples\": [\n          19.9,\n          31.0,\n          38.1\n        ],\n        \"semantic_type\": \"\",\n        \"description\": \"\"\n      }\n    },\n    {\n      \"column\": \"DiabetesPedigreeFunction\",\n      \"properties\": {\n        \"dtype\": \"number\",\n        \"std\": 0.33132859501277484,\n        \"min\": 0.078,\n        \"max\": 2.42,\n        \"num_unique_values\": 517,\n        \"samples\": [\n          1.731,\n          0.426,\n          0.138\n        ],\n        \"semantic_type\": \"\",\n        \"description\": \"\"\n      }\n    },\n    {\n      \"column\": \"Age\",\n      \"properties\": {\n        \"dtype\": \"number\",\n        \"std\": 11,\n        \"min\": 21,\n        \"max\": 81,\n        \"num_unique_values\": 52,\n        \"samples\": [\n          60,\n          47,\n          72\n        ],\n        \"semantic_type\": \"\",\n        \"description\": \"\"\n      }\n    },\n    {\n      \"column\": \"Outcome\",\n      \"properties\": {\n        \"dtype\": \"number\",\n        \"std\": 0,\n        \"min\": 0,\n        \"max\": 1,\n        \"num_unique_values\": 2,\n        \"samples\": [\n          0,\n          1\n        ],\n        \"semantic_type\": \"\",\n        \"description\": \"\"\n      }\n    }\n  ]\n}"
            }
          },
          "metadata": {},
          "execution_count": 45
        }
      ]
    },
    {
      "cell_type": "code",
      "source": [
        "# Handeling any missing values appropriately, either by dropping or imputing them based on the data.\n",
        "\n",
        "df.isnull().any()\n",
        "\n",
        "# There are no missing values in the provided dataset\n"
      ],
      "metadata": {
        "colab": {
          "base_uri": "https://localhost:8080/",
          "height": 366
        },
        "id": "JjufSchTtZl8",
        "outputId": "bbcb07d4-8491-487a-deac-89bc7560a38d"
      },
      "execution_count": null,
      "outputs": [
        {
          "output_type": "execute_result",
          "data": {
            "text/plain": [
              "Pregnancies                 False\n",
              "Glucose                     False\n",
              "BloodPressure               False\n",
              "SkinThickness               False\n",
              "Insulin                     False\n",
              "BMI                         False\n",
              "DiabetesPedigreeFunction    False\n",
              "Age                         False\n",
              "Outcome                     False\n",
              "dtype: bool"
            ],
            "text/html": [
              "<div>\n",
              "<style scoped>\n",
              "    .dataframe tbody tr th:only-of-type {\n",
              "        vertical-align: middle;\n",
              "    }\n",
              "\n",
              "    .dataframe tbody tr th {\n",
              "        vertical-align: top;\n",
              "    }\n",
              "\n",
              "    .dataframe thead th {\n",
              "        text-align: right;\n",
              "    }\n",
              "</style>\n",
              "<table border=\"1\" class=\"dataframe\">\n",
              "  <thead>\n",
              "    <tr style=\"text-align: right;\">\n",
              "      <th></th>\n",
              "      <th>0</th>\n",
              "    </tr>\n",
              "  </thead>\n",
              "  <tbody>\n",
              "    <tr>\n",
              "      <th>Pregnancies</th>\n",
              "      <td>False</td>\n",
              "    </tr>\n",
              "    <tr>\n",
              "      <th>Glucose</th>\n",
              "      <td>False</td>\n",
              "    </tr>\n",
              "    <tr>\n",
              "      <th>BloodPressure</th>\n",
              "      <td>False</td>\n",
              "    </tr>\n",
              "    <tr>\n",
              "      <th>SkinThickness</th>\n",
              "      <td>False</td>\n",
              "    </tr>\n",
              "    <tr>\n",
              "      <th>Insulin</th>\n",
              "      <td>False</td>\n",
              "    </tr>\n",
              "    <tr>\n",
              "      <th>BMI</th>\n",
              "      <td>False</td>\n",
              "    </tr>\n",
              "    <tr>\n",
              "      <th>DiabetesPedigreeFunction</th>\n",
              "      <td>False</td>\n",
              "    </tr>\n",
              "    <tr>\n",
              "      <th>Age</th>\n",
              "      <td>False</td>\n",
              "    </tr>\n",
              "    <tr>\n",
              "      <th>Outcome</th>\n",
              "      <td>False</td>\n",
              "    </tr>\n",
              "  </tbody>\n",
              "</table>\n",
              "</div><br><label><b>dtype:</b> bool</label>"
            ]
          },
          "metadata": {},
          "execution_count": 46
        }
      ]
    },
    {
      "cell_type": "code",
      "source": [
        "# Separate the feature matrix (X) and target variable (y).\n",
        "\n",
        "x = df.drop(columns=['Outcome']).values\n",
        "y = df['Outcome'].values\n",
        "\n",
        "print(x)\n",
        "print(y)"
      ],
      "metadata": {
        "colab": {
          "base_uri": "https://localhost:8080/"
        },
        "id": "C-FYCMrsvWBT",
        "outputId": "b2a9c78a-ed27-47d6-a3ce-0cef1119c3e9"
      },
      "execution_count": null,
      "outputs": [
        {
          "output_type": "stream",
          "name": "stdout",
          "text": [
            "[[  6.    148.     72.    ...  33.6     0.627  50.   ]\n",
            " [  1.     85.     66.    ...  26.6     0.351  31.   ]\n",
            " [  8.    183.     64.    ...  23.3     0.672  32.   ]\n",
            " ...\n",
            " [  5.    121.     72.    ...  26.2     0.245  30.   ]\n",
            " [  1.    126.     60.    ...  30.1     0.349  47.   ]\n",
            " [  1.     93.     70.    ...  30.4     0.315  23.   ]]\n",
            "[1 0 1 0 1 0 1 0 1 1 0 1 0 1 1 1 1 1 0 1 0 0 1 1 1 1 1 0 0 0 0 1 0 0 0 0 0\n",
            " 1 1 1 0 0 0 1 0 1 0 0 1 0 0 0 0 1 0 0 1 0 0 0 0 1 0 0 1 0 1 0 0 0 1 0 1 0\n",
            " 0 0 0 0 1 0 0 0 0 0 1 0 0 0 1 0 0 0 0 1 0 0 0 0 0 1 1 0 0 0 0 0 0 0 0 1 1\n",
            " 1 0 0 1 1 1 0 0 0 1 0 0 0 1 1 0 0 1 1 1 1 1 0 0 0 0 0 0 0 0 0 0 1 0 0 0 0\n",
            " 0 0 0 0 1 0 1 1 0 0 0 1 0 0 0 0 1 1 0 0 0 0 1 1 0 0 0 1 0 1 0 1 0 0 0 0 0\n",
            " 1 1 1 1 1 0 0 1 1 0 1 0 1 1 1 0 0 0 0 0 0 1 1 0 1 0 0 0 1 1 1 1 0 1 1 1 1\n",
            " 0 0 0 0 0 1 0 0 1 1 0 0 0 1 1 1 1 0 0 0 1 1 0 1 0 0 0 0 0 0 0 0 1 1 0 0 0\n",
            " 1 0 1 0 0 1 0 1 0 0 1 1 0 0 0 0 0 1 0 0 0 1 0 0 1 1 0 0 1 0 0 0 1 1 1 0 0\n",
            " 1 0 1 0 1 1 0 1 0 0 1 0 1 1 0 0 1 0 1 0 0 1 0 1 0 1 1 1 0 0 1 0 1 0 0 0 1\n",
            " 0 0 0 0 1 1 1 0 0 0 0 0 0 0 0 0 1 0 0 0 0 0 1 1 1 0 1 1 0 0 1 0 0 1 0 0 1\n",
            " 1 0 0 0 0 1 0 0 1 0 0 0 0 0 0 0 1 1 1 0 0 1 0 0 1 0 0 1 0 1 1 0 1 0 1 0 1\n",
            " 0 1 1 0 0 0 0 1 1 0 1 0 1 0 0 0 0 1 1 0 1 0 1 0 0 0 0 0 1 0 0 0 0 1 0 0 1\n",
            " 1 1 0 0 1 0 0 1 0 0 0 1 0 0 1 0 0 0 0 0 0 0 0 0 1 0 0 0 0 0 0 0 1 0 0 0 1\n",
            " 0 0 0 1 1 0 0 0 0 0 0 0 1 0 0 0 0 1 0 0 0 1 0 0 0 1 0 0 0 1 0 0 0 0 1 1 0\n",
            " 0 0 0 0 0 1 0 0 0 0 0 0 0 0 0 0 0 1 0 0 0 1 1 1 1 0 0 1 1 0 0 0 0 0 0 0 0\n",
            " 0 0 0 0 0 1 1 0 0 0 0 0 0 0 1 0 0 0 0 0 0 0 1 0 1 1 0 0 0 1 0 1 0 1 0 1 0\n",
            " 1 0 0 1 0 0 1 0 0 0 0 1 1 0 1 0 0 0 0 1 1 0 1 0 0 0 1 1 0 0 0 0 0 0 0 0 0\n",
            " 0 1 0 0 0 0 1 0 0 1 0 0 0 1 0 0 0 1 1 1 0 0 0 0 0 0 1 0 0 0 1 0 1 1 1 1 0\n",
            " 1 1 0 0 0 0 0 0 0 1 1 0 1 0 0 1 0 1 0 0 0 0 0 1 0 1 0 1 0 1 1 0 0 0 0 1 1\n",
            " 0 0 0 1 0 1 1 0 0 1 0 0 1 1 0 0 1 0 0 1 0 0 0 0 0 0 0 1 1 1 0 0 0 0 0 0 1\n",
            " 1 0 0 1 0 0 1 0 1 1 1 0 0 1 1 1 0 1 0 1 0 1 0 0 0 0 1 0]\n"
          ]
        }
      ]
    },
    {
      "cell_type": "code",
      "source": [
        "# Perform a train - test split from scratch using a 70% − 30% ratio.\n",
        "\n",
        "def train_test_split_scratch(x, y, test_size=0.3, random_seed=42):\n",
        "  #setting the random seed\n",
        "  np.random.seed(random_seed)\n",
        "\n",
        "  #generating an array of indices corresponding to the rows of x\n",
        "  indices = np.arange(x.shape[0])\n",
        "\n",
        "  #shuffling the indices\n",
        "  np.random.shuffle(indices)\n",
        "\n",
        "  #calculating the number of test samples\n",
        "  test_split_size = int( len(x)* test_size)\n",
        "\n",
        "  #splitting the indices into test_indices(first part) and train_indices (remaining part)\n",
        "  test_indices = indices[:test_split_size]\n",
        "  train_indices = indices[test_split_size:]\n",
        "\n",
        "  #splitting x and y into \"x_train\" and \"x_test\" , \"y_train\" and \"y_test\" using the indices\n",
        "  x_train = x[train_indices]\n",
        "  x_test = x[test_indices]\n",
        "  y_train = y[train_indices]\n",
        "  y_test = y[test_indices]\n",
        "\n",
        "  return x_train, x_test, y_train, y_test\n",
        "\n",
        "x_train, x_test, y_train, y_test = train_test_split_scratch(x, y, test_size=0.3)\n",
        "\n",
        "#printing the results shape to verify\n",
        "print(\"Shape of x_train :\",x_train.shape)\n",
        "print(\"Shape of x_test :\",x_test.shape)\n",
        "print(\"Shape of y_train :\",y_train.shape)\n",
        "print(\"Shape of y_test :\",y_test.shape)"
      ],
      "metadata": {
        "colab": {
          "base_uri": "https://localhost:8080/"
        },
        "id": "mMLEUBYWyfsg",
        "outputId": "c7197f36-f8f0-4f4f-c70e-b2c2c85621b1"
      },
      "execution_count": null,
      "outputs": [
        {
          "output_type": "stream",
          "name": "stdout",
          "text": [
            "Shape of x_train : (538, 8)\n",
            "Shape of x_test : (230, 8)\n",
            "Shape of y_train : (538,)\n",
            "Shape of y_test : (230,)\n"
          ]
        }
      ]
    },
    {
      "cell_type": "code",
      "source": [
        "# defining a function to compute euclidean disance matrics\n",
        "\n",
        "def euclidean_dis(x1, x2):\n",
        "    # checking if the points are of same dimension\n",
        "    if x1.shape != x2.shape:\n",
        "      print(\"The points are should be of same dimension\")\n",
        "    # calculating distance\n",
        "    distance = np.sqrt(np.sum(np.square(x1 - x2)))\n",
        "    return distance"
      ],
      "metadata": {
        "id": "DqKETVqEW0sf"
      },
      "execution_count": null,
      "outputs": []
    },
    {
      "cell_type": "code",
      "source": [
        "# function for predicting the class for a single query\n",
        "\n",
        "def knn_single_predict(query, x_train, y_train, k):\n",
        "\n",
        "  # calculating the distance from query to all train point\n",
        "  dis2= [euclidean_dis(query,x) for x in x_train]\n",
        "\n",
        "  # Sorting the distance and getting the indices of the closest neigbour\n",
        "  sorted_ind=np.argsort(dis2)\n",
        "\n",
        "  # Selecting the indices of k's nearest neighbours\n",
        "  nearest_ind=sorted_ind[:k]\n",
        "\n",
        "  # Geting the corresponding labels\n",
        "  nearest_l=[y_train[i] for i in nearest_ind]\n",
        "\n",
        "  # Count the frequency of each label\n",
        "  count=np.bincount(nearest_l)\n",
        "\n",
        "  # Store the label with highest frequency in 'pred'\n",
        "  pred =np.argmax(count)\n",
        "\n",
        "  return pred"
      ],
      "metadata": {
        "id": "SJ9NcThzbAuZ"
      },
      "execution_count": null,
      "outputs": []
    },
    {
      "cell_type": "code",
      "source": [
        "# function for predicting the class for all test\n",
        "\n",
        "def knn_predict(x_test, x_train, y_train, k):\n",
        "\n",
        "  #Calling above function for each test point x\n",
        "  preds=[knn_single_predict(x,x_train,y_train,k) for x in x_test]\n",
        "  return np.array(preds)"
      ],
      "metadata": {
        "id": "HGZoCiVllkac"
      },
      "execution_count": null,
      "outputs": []
    },
    {
      "cell_type": "code",
      "source": [
        "# function for calculating accuracy\n",
        "\n",
        "def accuracy_calc(y_true, y_pred):\n",
        "\n",
        "  # count the number of true values that corresponds to the true predictions\n",
        "  correct = np.sum(y_true == y_pred)\n",
        "\n",
        "  # number of total predictions\n",
        "  true = len(y_true)\n",
        "\n",
        "  # return the accuracy\n",
        "  accuracy = (correct/true)*100\n",
        "  return accuracy"
      ],
      "metadata": {
        "id": "Th6VK0kzmiQc"
      },
      "execution_count": null,
      "outputs": []
    },
    {
      "cell_type": "code",
      "source": [
        "# performing the tests\n",
        "\n",
        "try:\n",
        "  #making the predictions\n",
        "  predictions = knn_predict(x_test,x_train,y_train,k=3)\n",
        "\n",
        "  #computing the accuracy\n",
        "  accuracy = accuracy_calc(y_test,predictions)\n",
        "\n",
        "  #displaying the accuracy\n",
        "  print(f\"Accuracy: {accuracy:.2f} %\")\n",
        "\n",
        "except Exception as e:\n",
        "  print(e)"
      ],
      "metadata": {
        "colab": {
          "base_uri": "https://localhost:8080/"
        },
        "id": "RrPeHt6gncsq",
        "outputId": "c046d889-a8ae-467e-a4b3-ebcb6d6153ad"
      },
      "execution_count": null,
      "outputs": [
        {
          "output_type": "stream",
          "name": "stdout",
          "text": [
            "Accuracy: 67.39 %\n"
          ]
        }
      ]
    },
    {
      "cell_type": "markdown",
      "source": [
        "# Problem 2: Experimentation"
      ],
      "metadata": {
        "id": "9i-S6cA6plKQ"
      }
    },
    {
      "cell_type": "code",
      "source": [
        "# scaling the training data\n",
        "x_min_train = x_train.min(axis=0)\n",
        "\n",
        "x_max_train = x_train.max(axis=0)\n",
        "\n",
        "x_train_scaled = (x_train - x_min_train) / (x_max_train - x_min_train)\n",
        "\n",
        "#printing the scaled data\n",
        "print(x_train_scaled)"
      ],
      "metadata": {
        "colab": {
          "base_uri": "https://localhost:8080/"
        },
        "id": "M5YpMW_Gpiqm",
        "outputId": "40e130fe-bfd6-4319-c5a7-089c149c7ae9"
      },
      "execution_count": null,
      "outputs": [
        {
          "output_type": "stream",
          "name": "stdout",
          "text": [
            "[[0.29411765 0.38693467 0.67213115 ... 0.53353204 0.03330487 0.23333333]\n",
            " [0.05882353 0.47738693 0.49180328 ... 0.3561848  0.07771136 0.01666667]\n",
            " [0.29411765 0.52763819 0.59016393 ... 0.54992548 0.03458582 0.11666667]\n",
            " ...\n",
            " [0.58823529 0.50753769 0.70491803 ... 0.67958271 0.45175064 0.28333333]\n",
            " [0.         0.70854271 0.         ... 0.6318927  0.05422716 0.13333333]\n",
            " [0.         0.6281407  0.78688525 ... 0.33532042 0.07856533 0.        ]]\n"
          ]
        }
      ]
    },
    {
      "cell_type": "code",
      "source": [
        "# scaling the testing data\n",
        "x_min_test = x_test.min(axis=0)\n",
        "\n",
        "x_max_test = x_test.max(axis=0)\n",
        "\n",
        "x_test_scaled = (x_test - x_min_test) / (x_max_test - x_min_test)\n",
        "\n",
        "#printing the scaled data\n",
        "print(x_test_scaled)"
      ],
      "metadata": {
        "colab": {
          "base_uri": "https://localhost:8080/"
        },
        "id": "s3hEBFTwrlHD",
        "outputId": "1dde3389-a959-4738-95fc-84320d2c7e56"
      },
      "execution_count": null,
      "outputs": [
        {
          "output_type": "stream",
          "name": "stdout",
          "text": [
            "[[0.46153846 0.27205882 0.50877193 ... 0.59336824 0.22619048 0.47826087]\n",
            " [0.15384615 0.375      0.65789474 ... 0.62303665 0.03968254 0.        ]\n",
            " [0.15384615 0.34558824 0.56140351 ... 0.53752182 0.0462963  0.        ]\n",
            " ...\n",
            " [0.30769231 0.35294118 0.56140351 ... 0.60732984 0.54034392 0.10869565]\n",
            " [0.         0.48529412 0.70175439 ... 0.63350785 0.47354497 0.04347826]\n",
            " [0.46153846 0.32352941 0.61403509 ... 0.53752182 0.02248677 0.34782609]]\n"
          ]
        }
      ]
    },
    {
      "cell_type": "code",
      "source": [
        "# performing the predictions\n",
        "\n",
        "try:\n",
        "  predictions = knn_predict(x_test_scaled,x_train_scaled,y_train,k=3)\n",
        "\n",
        "  accuracy = accuracy_calc(y_test,predictions)\n",
        "\n",
        "  print(f\"Accuracy: {accuracy:.2f} %\")\n",
        "\n",
        "except Exception as e:\n",
        "  print(e)"
      ],
      "metadata": {
        "colab": {
          "base_uri": "https://localhost:8080/"
        },
        "id": "RRBAZFxar7jR",
        "outputId": "185df72b-5e08-49f3-a011-c15996047f85"
      },
      "execution_count": null,
      "outputs": [
        {
          "output_type": "stream",
          "name": "stdout",
          "text": [
            "Accuracy: 70.87 %\n"
          ]
        }
      ]
    },
    {
      "cell_type": "markdown",
      "source": [
        "Scaling improves k-NN performance by making the range of all features the featured so they contribute equally to distance calculations, so there are no bias from larger-scale features. This leads to better neighbor selection and higher accuracy, as the algorithm can be more balanced and reliable."
      ],
      "metadata": {
        "id": "OrKnupzUxZOO"
      }
    },
    {
      "cell_type": "markdown",
      "source": [
        "# Problem 3:"
      ],
      "metadata": {
        "id": "M1hVCyVQyPZv"
      }
    },
    {
      "cell_type": "code",
      "source": [
        "#Accuracy of original dataset\n",
        "accuracy_original={}\n",
        "\n",
        "#Iterating tgrough each values in k_values\n",
        "for k in range(1,16):\n",
        "\n",
        "  #Making predictions from the value of k\n",
        "  predictions = knn_predict(x_test, x_train, y_train,k=k)\n",
        "\n",
        "  #Caclculating accuracy\n",
        "  accuracy= accuracy_calc(y_test,predictions)\n",
        "\n",
        "  #Store the accuracy\n",
        "  accuracy_original[k]=accuracy\n",
        "\n",
        "  print(f\"Accuracy for k={k}: {accuracy:.2f}\")"
      ],
      "metadata": {
        "colab": {
          "base_uri": "https://localhost:8080/"
        },
        "id": "lpukmj4byOH3",
        "outputId": "034f62e0-8a81-49cf-d1db-5ea5e1882372"
      },
      "execution_count": null,
      "outputs": [
        {
          "output_type": "stream",
          "name": "stdout",
          "text": [
            "Accuracy for k=1: 68.70\n",
            "Accuracy for k=2: 72.61\n",
            "Accuracy for k=3: 67.39\n",
            "Accuracy for k=4: 72.17\n",
            "Accuracy for k=5: 68.70\n",
            "Accuracy for k=6: 70.00\n",
            "Accuracy for k=7: 69.13\n",
            "Accuracy for k=8: 71.30\n",
            "Accuracy for k=9: 70.00\n",
            "Accuracy for k=10: 71.74\n",
            "Accuracy for k=11: 73.04\n",
            "Accuracy for k=12: 73.91\n",
            "Accuracy for k=13: 74.35\n",
            "Accuracy for k=14: 72.61\n",
            "Accuracy for k=15: 73.91\n"
          ]
        }
      ]
    },
    {
      "cell_type": "code",
      "source": [
        "# accuracy of the scaled dataset\n",
        "\n",
        "scaled_accuracy={}\n",
        "\n",
        "#iterating through each values in k_values\n",
        "for k in range(1,16):\n",
        "\n",
        "  #making predictions\n",
        "  predictions = knn_predict(x_test_scaled, x_train_scaled, y_train,k=k)\n",
        "\n",
        "  #calculating accuracy\n",
        "  accuracy= accuracy_calc(y_test,predictions)\n",
        "\n",
        "  #storing accuracy\n",
        "  scaled_accuracy[k]=accuracy\n",
        "\n",
        "  print(f\"Accuracy for k={k}: {accuracy:.2f}\")"
      ],
      "metadata": {
        "colab": {
          "base_uri": "https://localhost:8080/"
        },
        "id": "8Q3uPKotzllE",
        "outputId": "2bd562e8-d373-4d65-e0f3-9b668577522d"
      },
      "execution_count": null,
      "outputs": [
        {
          "output_type": "stream",
          "name": "stdout",
          "text": [
            "Accuracy for k=1: 70.00\n",
            "Accuracy for k=2: 70.43\n",
            "Accuracy for k=3: 70.87\n",
            "Accuracy for k=4: 71.74\n",
            "Accuracy for k=5: 71.74\n",
            "Accuracy for k=6: 73.48\n",
            "Accuracy for k=7: 71.74\n",
            "Accuracy for k=8: 74.35\n",
            "Accuracy for k=9: 74.35\n",
            "Accuracy for k=10: 74.35\n",
            "Accuracy for k=11: 74.78\n",
            "Accuracy for k=12: 73.04\n",
            "Accuracy for k=13: 74.78\n",
            "Accuracy for k=14: 74.78\n",
            "Accuracy for k=15: 76.09\n"
          ]
        }
      ]
    },
    {
      "cell_type": "code",
      "source": [
        "# time taken for original dataset\n",
        "\n",
        "original_time =[]\n",
        "\n",
        "#iterating over the values in k_values\n",
        "for k in range(1,16):\n",
        "\n",
        "  # Timing the knn_predict function with the current k value\n",
        "  time_taken = timeit(\"knn_predict(x_test, x_train, y_train, k=k)\", globals=globals(), number=5)\n",
        "  original_time.append(time_taken)\n",
        "  print(f\"Time taken for k={k}: {time_taken:.6f}\")"
      ],
      "metadata": {
        "colab": {
          "base_uri": "https://localhost:8080/"
        },
        "id": "ZFZ4D7en1uZs",
        "outputId": "98995623-6e9d-4a79-b658-8920c482ed71"
      },
      "execution_count": null,
      "outputs": [
        {
          "output_type": "stream",
          "name": "stdout",
          "text": [
            "Time taken for k=1: 4.025849\n",
            "Time taken for k=2: 4.114821\n",
            "Time taken for k=3: 6.119510\n",
            "Time taken for k=4: 4.639671\n",
            "Time taken for k=5: 4.070622\n",
            "Time taken for k=6: 5.870558\n",
            "Time taken for k=7: 4.045463\n",
            "Time taken for k=8: 4.105317\n",
            "Time taken for k=9: 5.903262\n",
            "Time taken for k=10: 4.525344\n",
            "Time taken for k=11: 4.153823\n",
            "Time taken for k=12: 5.892295\n",
            "Time taken for k=13: 4.114668\n",
            "Time taken for k=14: 4.076020\n",
            "Time taken for k=15: 5.904354\n"
          ]
        }
      ]
    },
    {
      "cell_type": "code",
      "source": [
        "# time for scaled dataset\n",
        "\n",
        "scaled_time = []\n",
        "\n",
        "# iterating over the values in k_values\n",
        "\n",
        "for k in range(1, 16):\n",
        "    time_taken = timeit(\"knn_predict(x_test_scaled, x_train_scaled, y_train, k=k)\", globals=globals(), number=5)\n",
        "    scaled_time.append(time_taken)\n",
        "    print(f\"Time taken for k={k}: {time_taken:.6f}\")"
      ],
      "metadata": {
        "colab": {
          "base_uri": "https://localhost:8080/"
        },
        "id": "6WKJAV2i-VYM",
        "outputId": "ab5fd107-4746-4423-db90-a935f3e6e3e2"
      },
      "execution_count": null,
      "outputs": [
        {
          "output_type": "stream",
          "name": "stdout",
          "text": [
            "Time taken for k=1: 4.720378\n",
            "Time taken for k=2: 5.599932\n",
            "Time taken for k=3: 4.083375\n",
            "Time taken for k=4: 4.169511\n",
            "Time taken for k=5: 5.801404\n",
            "Time taken for k=6: 4.035781\n",
            "Time taken for k=7: 4.091241\n",
            "Time taken for k=8: 6.109984\n",
            "Time taken for k=9: 4.007584\n",
            "Time taken for k=10: 4.048825\n",
            "Time taken for k=11: 5.851472\n",
            "Time taken for k=12: 4.112790\n",
            "Time taken for k=13: 4.025784\n",
            "Time taken for k=14: 5.885246\n",
            "Time taken for k=15: 4.065100\n"
          ]
        }
      ]
    },
    {
      "cell_type": "code",
      "source": [
        "k_values = range(1,16)\n",
        "# Plotting k vs. Accuracy\n",
        "plt.figure(figsize=(12, 6))\n",
        "\n",
        "plt.subplot(1, 2, 1)\n",
        "plt.plot(k_values, list(accuracy_original.values()), label='Original Dataset', marker='o')\n",
        "plt.plot(k_values, list(scaled_accuracy.values()), label='Scaled Dataset', marker='o')\n",
        "plt.title('k vs. Accuracy')\n",
        "plt.xlabel('Number of Neighbors (k)')\n",
        "plt.ylabel('Accuracy')\n",
        "plt.legend()\n",
        "plt.grid()\n",
        "\n",
        "# Plotting k vs. Time Taken\n",
        "plt.subplot(1, 2, 2)\n",
        "plt.plot(k_values, original_time, label='Original Dataset', marker='o')\n",
        "plt.plot(k_values, scaled_time, label='Scaled Dataset', marker='o')\n",
        "plt.title('k vs. Time Taken')\n",
        "plt.xlabel('Number of Neighbors (k)')\n",
        "plt.ylabel('Time Taken (seconds)')\n",
        "plt.legend()\n",
        "plt.grid()"
      ],
      "metadata": {
        "colab": {
          "base_uri": "https://localhost:8080/",
          "height": 564
        },
        "id": "OM0qGBEgCly0",
        "outputId": "a23844d3-47dd-4c70-e20d-ae7e46cab49a"
      },
      "execution_count": null,
      "outputs": [
        {
          "output_type": "display_data",
          "data": {
            "text/plain": [
              "<Figure size 1200x600 with 2 Axes>"
            ],
            "image/png": "[encoded data removed]"
          },
          "metadata": {}
        }
      ]
    }
  ]
}